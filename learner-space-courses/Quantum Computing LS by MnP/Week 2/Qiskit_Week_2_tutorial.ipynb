{
  "cells": [
    {
      "cell_type": "markdown",
      "id": "ec01cce2",
      "metadata": {
        "id": "ec01cce2"
      },
      "source": [
        "# Basic Gates and Circuits in Qiskit\n",
        "\n",
        "In this module, you will learn basic quantum gates and circuits using Qiskit."
      ]
    },
    {
      "cell_type": "markdown",
      "id": "e8673555",
      "metadata": {
        "id": "e8673555"
      },
      "source": [
        "## Installation\n",
        "Run the following code to install qiskit."
      ]
    },
    {
      "cell_type": "code",
      "execution_count": null,
      "id": "c6798bae",
      "metadata": {
        "id": "c6798bae"
      },
      "outputs": [],
      "source": [
        "!pip install qiskit --upgrade\n",
        "!pip install qiskit_aer --upgrade\n",
        "!pip install pylatexenc --upgrade"
      ]
    },
    {
      "cell_type": "markdown",
      "id": "47497d4d",
      "metadata": {},
      "source": [
        "Kill and Restart your kernel"
      ]
    },
    {
      "cell_type": "code",
      "execution_count": null,
      "id": "k7vSd_C5HJVX",
      "metadata": {
        "id": "k7vSd_C5HJVX"
      },
      "outputs": [],
      "source": [
        "exit()"
      ]
    },
    {
      "cell_type": "markdown",
      "id": "9f153f6f",
      "metadata": {
        "id": "9f153f6f"
      },
      "source": [
        "## Importing Qiskit"
      ]
    },
    {
      "cell_type": "code",
      "execution_count": null,
      "id": "f0e19de7",
      "metadata": {
        "id": "f0e19de7"
      },
      "outputs": [],
      "source": [
        "from qiskit import QuantumCircuit\n",
        "from qiskit.quantum_info import Statevector\n",
        "from qiskit_aer import AerSimulator\n",
        "from qiskit.visualization import plot_histogram, plot_bloch_multivector, plot_bloch_vector\n",
        "import matplotlib.pyplot as plt"
      ]
    },
    {
      "cell_type": "markdown",
      "id": "0e3a0d7f",
      "metadata": {
        "id": "0e3a0d7f"
      },
      "source": [
        "## Creating a Single-Qubit Circuit and Applying Gates"
      ]
    },
    {
      "cell_type": "code",
      "execution_count": null,
      "id": "611e2a56",
      "metadata": {
        "id": "611e2a56"
      },
      "outputs": [],
      "source": [
        "# Create a quantum circuit with 1 qubit and 1 classical bit\n",
        "qc = QuantumCircuit(1, 1)"
      ]
    },
    {
      "cell_type": "code",
      "execution_count": null,
      "id": "315f4f6c",
      "metadata": {
        "id": "315f4f6c"
      },
      "outputs": [],
      "source": [
        "# Apply an X gate (NOT gate)\n",
        "qc.x(0)"
      ]
    },
    {
      "cell_type": "markdown",
      "id": "64c30324",
      "metadata": {},
      "source": [
        "Use `plot_bloch_multivector` to plot a single/multi qubit state."
      ]
    },
    {
      "cell_type": "code",
      "execution_count": null,
      "id": "xA7VspWrFsfY",
      "metadata": {
        "id": "xA7VspWrFsfY"
      },
      "outputs": [],
      "source": [
        "# View the bloch vector\n",
        "statevector1 = Statevector(qc)\n",
        "plot_bloch_multivector(statevector1)"
      ]
    },
    {
      "cell_type": "code",
      "execution_count": null,
      "id": "c1f0e98b",
      "metadata": {
        "id": "c1f0e98b"
      },
      "outputs": [],
      "source": [
        "# Measure the qubit\n",
        "qc.measure(0, 0)"
      ]
    },
    {
      "cell_type": "code",
      "execution_count": null,
      "id": "3696484b",
      "metadata": {
        "id": "3696484b"
      },
      "outputs": [],
      "source": [
        "# Draw the circuit\n",
        "qc.draw('mpl')"
      ]
    },
    {
      "cell_type": "markdown",
      "id": "e4306661",
      "metadata": {
        "id": "e4306661"
      },
      "source": [
        "## Simulating the Circuit"
      ]
    },
    {
      "cell_type": "code",
      "execution_count": null,
      "id": "89638244",
      "metadata": {
        "id": "89638244"
      },
      "outputs": [],
      "source": [
        "# Use Aer qasm_simulator\n",
        "sim = AerSimulator()\n",
        "job = sim.run(qc, shots = 1024)\n",
        "# Execute\n",
        "results = job.result()\n",
        "counts = results.get_counts()"
      ]
    },
    {
      "cell_type": "markdown",
      "id": "DCIjUb24DuDi",
      "metadata": {
        "id": "DCIjUb24DuDi"
      },
      "source": [
        "This code will simulate the circuit (alongwith measurements) 1024 times and give out the results in the `counts` dictionary"
      ]
    },
    {
      "cell_type": "code",
      "execution_count": null,
      "id": "6da6228d",
      "metadata": {
        "id": "6da6228d"
      },
      "outputs": [],
      "source": [
        "# Plot the results\n",
        "plot_histogram(counts)"
      ]
    },
    {
      "cell_type": "markdown",
      "id": "yeph-dKxD8e-",
      "metadata": {
        "id": "yeph-dKxD8e-"
      },
      "source": [
        "Since we had a pure pauli X gate applied to the initialization condition (which is always all qubits to 0), we get 1 100% of the time"
      ]
    },
    {
      "cell_type": "markdown",
      "id": "32115fd4",
      "metadata": {
        "id": "32115fd4"
      },
      "source": [
        "## Two-Qubit Circuit with CNOT Gate"
      ]
    },
    {
      "cell_type": "markdown",
      "id": "3pKwdCdYELAO",
      "metadata": {
        "id": "3pKwdCdYELAO"
      },
      "source": [
        "The following code creates a bell pair."
      ]
    },
    {
      "cell_type": "code",
      "execution_count": null,
      "id": "26ac1bed",
      "metadata": {
        "id": "26ac1bed"
      },
      "outputs": [],
      "source": [
        "# Create a 2-qubit circuit\n",
        "qc2 = QuantumCircuit(2, 2)\n",
        "# Apply H gate on qubit 0 to create superposition\n",
        "qc2.h(0)\n",
        "# Apply CNOT with control qubit 0 and target qubit 1\n",
        "qc2.cx(0, 1)\n",
        "# Measure both qubits\n",
        "qc2.barrier()\n",
        "# View the bloch multi vector\n",
        "statevector2 = Statevector(qc2)\n",
        "plot_bloch_multivector(statevector2)"
      ]
    },
    {
      "cell_type": "markdown",
      "id": "07a34dab",
      "metadata": {},
      "source": [
        "(Why do we see nothing?)"
      ]
    },
    {
      "cell_type": "code",
      "execution_count": null,
      "id": "jTqwXW6QEzg5",
      "metadata": {
        "id": "jTqwXW6QEzg5"
      },
      "outputs": [],
      "source": [
        "qc2.measure([0, 1], [0, 1])"
      ]
    },
    {
      "cell_type": "code",
      "execution_count": null,
      "id": "7ca3f0ef",
      "metadata": {
        "id": "7ca3f0ef"
      },
      "outputs": [],
      "source": [
        "# Draw the circuit\n",
        "qc2.draw('mpl')"
      ]
    },
    {
      "cell_type": "code",
      "execution_count": null,
      "id": "beafe203",
      "metadata": {
        "id": "beafe203"
      },
      "outputs": [],
      "source": [
        "# Simulation\n",
        "job2 = sim.run(qc2, shots=1024)\n",
        "results2 = job2.result()\n",
        "counts2 = results2.get_counts()\n",
        "plot_histogram(counts2)"
      ]
    },
    {
      "cell_type": "markdown",
      "id": "iljGGyCUEf1A",
      "metadata": {
        "id": "iljGGyCUEf1A"
      },
      "source": [
        "We get 00 and 11 around half the time. (It's probabilistic, run it again to see if it changes)"
      ]
    },
    {
      "cell_type": "markdown",
      "id": "rdzJDFyPKHTs",
      "metadata": {
        "id": "rdzJDFyPKHTs"
      },
      "source": [
        "# Partial Trace over a Bell state"
      ]
    },
    {
      "cell_type": "code",
      "execution_count": null,
      "id": "6PZkPLNiIbuU",
      "metadata": {
        "id": "6PZkPLNiIbuU"
      },
      "outputs": [],
      "source": [
        "from qiskit import QuantumCircuit\n",
        "from qiskit.quantum_info import Statevector, partial_trace\n",
        "from qiskit.visualization import plot_bloch_vector\n",
        "import numpy as np\n",
        "\n",
        "# Create a Bell state: |Φ+> = (|00> + |11>)/√2\n",
        "qc_bell = QuantumCircuit(2)\n",
        "qc_bell.h(0)\n",
        "qc_bell.cx(0, 1)\n",
        "\n",
        "state = Statevector.from_instruction(qc_bell)\n",
        "\n",
        "# Partial trace to get reduced density matrix for qubit 0\n",
        "reduced_dm = partial_trace(state, [1])\n",
        "\n",
        "# Define Pauli matrices\n",
        "I = np.array([[1, 0], [0, 1]])\n",
        "X = np.array([[0, 1], [1, 0]])\n",
        "Y = np.array([[0, -1j], [1j, 0]])\n",
        "Z = np.array([[1, 0], [0, -1]])\n",
        "\n",
        "# Compute Bloch vector components\n",
        "rho = reduced_dm.data\n",
        "bx = np.real(np.trace(rho @ X))\n",
        "by = np.real(np.trace(rho @ Y))\n",
        "bz = np.real(np.trace(rho @ Z))\n",
        "\n",
        "plot_bloch_vector([bx, by, bz])"
      ]
    },
    {
      "cell_type": "markdown",
      "id": "67564272",
      "metadata": {
        "id": "67564272"
      },
      "source": [
        "## Practice Tasks\n",
        "- Try adding other gates: S, T, Z, Y, and see what effect they have on the bloch vector.\n",
        "- Try visualizing other 2-level states.\n",
        "- Make a Bell state identifier to identify all of the 4 bell states."
      ]
    }
  ],
  "metadata": {
    "colab": {
      "provenance": []
    },
    "kernelspec": {
      "display_name": "Python 3",
      "name": "python3"
    },
    "language_info": {
      "codemirror_mode": {
        "name": "ipython",
        "version": 3
      },
      "file_extension": ".py",
      "mimetype": "text/x-python",
      "name": "python",
      "nbconvert_exporter": "python",
      "pygments_lexer": "ipython3",
      "version": "3.11.9"
    }
  },
  "nbformat": 4,
  "nbformat_minor": 5
}
